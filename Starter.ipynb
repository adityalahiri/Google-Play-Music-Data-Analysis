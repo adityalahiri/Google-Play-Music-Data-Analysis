{
 "cells": [
  {
   "cell_type": "markdown",
   "metadata": {},
   "source": [
    "## Extracting and Reading the Data"
   ]
  },
  {
   "cell_type": "markdown",
   "metadata": {},
   "source": [
    "This data has been extracted from the Google Play API which stores information about songs in a Python dictionary format for each song. This dictionary data is stored in a list and then saved as a binary file `data_list`. \n",
    "\n",
    "First we import the pickle library to read the data from `data_list`."
   ]
  },
  {
   "cell_type": "code",
   "execution_count": 1,
   "metadata": {},
   "outputs": [],
   "source": [
    "# import data\n",
    "import pickle\n",
    "data = pickle.load(open('data_list','rb'))"
   ]
  },
  {
   "cell_type": "markdown",
   "metadata": {},
   "source": [
    "Now, we store the data in the dictionaries as individual lists. The following lists which are created are the types of data available about each song. We append 0 or NIL if the data is not present and an error is raised."
   ]
  },
  {
   "cell_type": "code",
   "execution_count": 2,
   "metadata": {},
   "outputs": [],
   "source": [
    "creationTimestamp = []\n",
    "albumArtist = []\n",
    "year = []\n",
    "genre = []\n",
    "playCount = []\n",
    "title = []\n",
    "\n",
    "for each_song in data:\n",
    "    creationTimestamp.append(each_song['creationTimestamp'])\n",
    "    albumArtist.append(each_song['albumArtist'])\n",
    "    try:\n",
    "        year.append(each_song['year'])\n",
    "    except:\n",
    "        year.append(0)\n",
    "    try:\n",
    "        genre.append(each_song['genre'])\n",
    "    except:\n",
    "        genre.append(\"NIL\")\n",
    "    try:\n",
    "        title.append(each_song['title'])\n",
    "    except:\n",
    "        title.append(\"NIL\")\n",
    "    try:\n",
    "        playCount.append(each_song['playCount'])\n",
    "    except:\n",
    "        playCount.append(0)"
   ]
  },
  {
   "cell_type": "markdown",
   "metadata": {},
   "source": [
    "Now, we zip the title and playCount together so that they are \"tupled\" together and then it is stored as a dictionary. Then we sort this dictionary in descending order of the playCount. We use operator.itemgetter(1) as the key, i.e. the playCount"
   ]
  },
  {
   "cell_type": "code",
   "execution_count": 3,
   "metadata": {},
   "outputs": [],
   "source": [
    "import operator\n",
    "count_song = dict(zip(title,playCount))\n",
    "count_song_sorted = sorted(count_song.items(),key = operator.itemgetter(1),reverse=True)"
   ]
  },
  {
   "cell_type": "markdown",
   "metadata": {},
   "source": [
    "The top song names are then separated from the playcount in two different lists."
   ]
  },
  {
   "cell_type": "code",
   "execution_count": 4,
   "metadata": {},
   "outputs": [],
   "source": [
    "top_songs = [x[0] for x in count_song_sorted ]\n",
    "count_top_songs = [x[1] for x in count_song_sorted]"
   ]
  },
  {
   "cell_type": "markdown",
   "metadata": {},
   "source": [
    "Now, we import plotly which is a python library for making data visualizations and bring interactive plotly graphs to the offline environment. Using `graph_objs` we can have various types of graph objects. Setting `init_notebook_mode(connected=True)` plots the graph inside a Jupyter Notebook environment."
   ]
  },
  {
   "cell_type": "code",
   "execution_count": 5,
   "metadata": {},
   "outputs": [],
   "source": [
    "import plotly as py\n",
    "import plotly.graph_objs as go\n",
    "from plotly.offline import download_plotlyjs, init_notebook_mode, plot, iplot"
   ]
  },
  {
   "cell_type": "code",
   "execution_count": 6,
   "metadata": {},
   "outputs": [
    {
     "data": {
      "text/html": [
       "<script>requirejs.config({paths: { 'plotly': ['https://cdn.plot.ly/plotly-latest.min']},});if(!window.Plotly) {{require(['plotly'],function(plotly) {window.Plotly=plotly;});}}</script>"
      ],
      "text/vnd.plotly.v1+html": [
       "<script>requirejs.config({paths: { 'plotly': ['https://cdn.plot.ly/plotly-latest.min']},});if(!window.Plotly) {{require(['plotly'],function(plotly) {window.Plotly=plotly;});}}</script>"
      ]
     },
     "metadata": {},
     "output_type": "display_data"
    }
   ],
   "source": [
    "init_notebook_mode(connected=True)"
   ]
  },
  {
   "cell_type": "code",
   "execution_count": 7,
   "metadata": {},
   "outputs": [
    {
     "data": {
      "application/vnd.plotly.v1+json": {
       "data": [
        {
         "type": "scatter",
         "x": [
          "Say You Won't Let Go",
          "Atlantis",
          "Riptide",
          "Choo Lo",
          "Georgia",
          "Something Just Like This",
          "We Are Young (feat. Janelle Monáe)",
          "Sleep On The Floor",
          "Coming Home (feat. Skylar Grey)",
          "I Wanna Be Yours"
         ],
         "y": [
          92,
          87,
          85,
          78,
          77,
          77,
          75,
          74,
          73,
          72
         ]
        }
       ],
       "layout": {}
      },
      "text/html": [
       "<div id=\"07cc4083-93be-4966-ab9e-066f9f628abc\" style=\"height: 525px; width: 100%;\" class=\"plotly-graph-div\"></div><script type=\"text/javascript\">require([\"plotly\"], function(Plotly) { window.PLOTLYENV=window.PLOTLYENV || {};window.PLOTLYENV.BASE_URL=\"https://plot.ly\";Plotly.newPlot(\"07cc4083-93be-4966-ab9e-066f9f628abc\", [{\"type\": \"scatter\", \"x\": [\"Say You Won't Let Go\", \"Atlantis\", \"Riptide\", \"Choo Lo\", \"Georgia\", \"Something Just Like This\", \"We Are Young (feat. Janelle Mon\\u00e1e)\", \"Sleep On The Floor\", \"Coming Home (feat. Skylar Grey)\", \"I Wanna Be Yours\"], \"y\": [92, 87, 85, 78, 77, 77, 75, 74, 73, 72]}], {}, {\"showLink\": true, \"linkText\": \"Export to plot.ly\"})});</script>"
      ],
      "text/vnd.plotly.v1+html": [
       "<div id=\"07cc4083-93be-4966-ab9e-066f9f628abc\" style=\"height: 525px; width: 100%;\" class=\"plotly-graph-div\"></div><script type=\"text/javascript\">require([\"plotly\"], function(Plotly) { window.PLOTLYENV=window.PLOTLYENV || {};window.PLOTLYENV.BASE_URL=\"https://plot.ly\";Plotly.newPlot(\"07cc4083-93be-4966-ab9e-066f9f628abc\", [{\"type\": \"scatter\", \"x\": [\"Say You Won't Let Go\", \"Atlantis\", \"Riptide\", \"Choo Lo\", \"Georgia\", \"Something Just Like This\", \"We Are Young (feat. Janelle Mon\\u00e1e)\", \"Sleep On The Floor\", \"Coming Home (feat. Skylar Grey)\", \"I Wanna Be Yours\"], \"y\": [92, 87, 85, 78, 77, 77, 75, 74, 73, 72]}], {}, {\"showLink\": true, \"linkText\": \"Export to plot.ly\"})});</script>"
      ]
     },
     "metadata": {},
     "output_type": "display_data"
    }
   ],
   "source": [
    "iplot([go.Scatter(x=top_songs[:10], y=count_top_songs[:10])])"
   ]
  },
  {
   "cell_type": "markdown",
   "metadata": {},
   "source": [
    "Let us try to print the information we have about each song."
   ]
  },
  {
   "cell_type": "code",
   "execution_count": 8,
   "metadata": {},
   "outputs": [],
   "source": [
    "keys = data[0].keys()"
   ]
  },
  {
   "cell_type": "code",
   "execution_count": 9,
   "metadata": {},
   "outputs": [
    {
     "data": {
      "text/plain": [
       "dict_keys(['kind', 'id', 'clientId', 'creationTimestamp', 'lastModifiedTimestamp', 'recentTimestamp', 'deleted', 'title', 'artist', 'composer', 'album', 'albumArtist', 'year', 'trackNumber', 'genre', 'durationMillis', 'albumArtRef', 'artistArtRef', 'playCount', 'discNumber', 'estimatedSize', 'trackType', 'storeId', 'albumId', 'artistId', 'nid', 'explicitType'])"
      ]
     },
     "execution_count": 9,
     "metadata": {},
     "output_type": "execute_result"
    }
   ],
   "source": [
    "keys"
   ]
  },
  {
   "cell_type": "markdown",
   "metadata": {},
   "source": [
    "The data that we have about the first song in the file can also be extracted as follows."
   ]
  },
  {
   "cell_type": "code",
   "execution_count": 10,
   "metadata": {},
   "outputs": [
    {
     "data": {
      "text/plain": [
       "{'album': 'Best Of Arijit Singh',\n",
       " 'albumArtRef': [{'aspectRatio': '1',\n",
       "   'autogen': False,\n",
       "   'kind': 'sj#imageRef',\n",
       "   'url': 'http://lh3.googleusercontent.com/f5F2l-jGjPpKJEm9ezLNjS_YujPUmmXjEdm5oZ3FZhCzPDXAc8xiiKcDGKE9jQZcZW-pwP-Ly-M'}],\n",
       " 'albumArtist': 'Arijit Singh',\n",
       " 'albumId': 'Byxh44kqeqpqbkpvhpcb2mk4zwq',\n",
       " 'artist': 'Arijit Singh',\n",
       " 'artistArtRef': [{'aspectRatio': '2',\n",
       "   'autogen': False,\n",
       "   'kind': 'sj#imageRef',\n",
       "   'url': 'http://lh3.googleusercontent.com/WOUEVHdt9MDz0OF_lvQTsDzOC-JsqJYznYsfcUkzXN3dqEqoWhmJTraW_4end4JH025L9WeLl4U'}],\n",
       " 'artistId': ['Aup5wtp2mlyvetsde3l2tdsny5m',\n",
       "  'Av366nf2kehcxktrcn3qifkfuym',\n",
       "  'Amboi4wb6r4ahezu6jletgkkv3e'],\n",
       " 'clientId': 'f7355e89-ac32-463d-94a7-0bfa4e7aca20',\n",
       " 'composer': '',\n",
       " 'creationTimestamp': '1491623824763690',\n",
       " 'deleted': False,\n",
       " 'discNumber': 1,\n",
       " 'durationMillis': '329000',\n",
       " 'estimatedSize': '13197088',\n",
       " 'explicitType': '2',\n",
       " 'genre': 'Hindi',\n",
       " 'id': 'b441b6b9-986b-33a1-b1a2-2387c29b10e7',\n",
       " 'kind': 'sj#track',\n",
       " 'lastModifiedTimestamp': '1500897890816586',\n",
       " 'nid': 'T6pkfbk7tgjwu4nhu2iiqkgjosy',\n",
       " 'playCount': 8,\n",
       " 'recentTimestamp': '1491623824761000',\n",
       " 'storeId': 'T6pkfbk7tgjwu4nhu2iiqkgjosy',\n",
       " 'title': 'Phir Mohabbat (From \"Murder 2\")',\n",
       " 'trackNumber': 5,\n",
       " 'trackType': '8',\n",
       " 'year': 2016}"
      ]
     },
     "execution_count": 10,
     "metadata": {},
     "output_type": "execute_result"
    }
   ],
   "source": [
    "data[0]"
   ]
  },
  {
   "cell_type": "markdown",
   "metadata": {},
   "source": [
    "## A few other methods"
   ]
  },
  {
   "cell_type": "markdown",
   "metadata": {},
   "source": [
    "Importing seaborn and matplotlib.pyplot, which are other libraries in python to plot data."
   ]
  },
  {
   "cell_type": "code",
   "execution_count": 11,
   "metadata": {},
   "outputs": [],
   "source": [
    "import pandas as pd\n",
    "import seaborn as sns\n",
    "import matplotlib.pyplot as plt"
   ]
  },
  {
   "cell_type": "markdown",
   "metadata": {},
   "source": [
    "We are using pandas library to convert the data in a dataframe. This is easily done using just a single command."
   ]
  },
  {
   "cell_type": "code",
   "execution_count": 12,
   "metadata": {},
   "outputs": [],
   "source": [
    "df = pd.DataFrame(data)"
   ]
  },
  {
   "cell_type": "markdown",
   "metadata": {},
   "source": [
    "Let us see a sample of the information we have in the DataFrame object."
   ]
  },
  {
   "cell_type": "code",
   "execution_count": 13,
   "metadata": {
    "scrolled": false
   },
   "outputs": [
    {
     "data": {
      "text/html": [
       "<div>\n",
       "<style scoped>\n",
       "    .dataframe tbody tr th:only-of-type {\n",
       "        vertical-align: middle;\n",
       "    }\n",
       "\n",
       "    .dataframe tbody tr th {\n",
       "        vertical-align: top;\n",
       "    }\n",
       "\n",
       "    .dataframe thead th {\n",
       "        text-align: right;\n",
       "    }\n",
       "</style>\n",
       "<table border=\"1\" class=\"dataframe\">\n",
       "  <thead>\n",
       "    <tr style=\"text-align: right;\">\n",
       "      <th></th>\n",
       "      <th>album</th>\n",
       "      <th>albumArtRef</th>\n",
       "      <th>albumArtist</th>\n",
       "      <th>albumId</th>\n",
       "      <th>artist</th>\n",
       "      <th>artistArtRef</th>\n",
       "      <th>artistId</th>\n",
       "      <th>clientId</th>\n",
       "      <th>composer</th>\n",
       "      <th>creationTimestamp</th>\n",
       "      <th>...</th>\n",
       "      <th>nid</th>\n",
       "      <th>playCount</th>\n",
       "      <th>primaryVideo</th>\n",
       "      <th>rating</th>\n",
       "      <th>recentTimestamp</th>\n",
       "      <th>storeId</th>\n",
       "      <th>title</th>\n",
       "      <th>trackNumber</th>\n",
       "      <th>trackType</th>\n",
       "      <th>year</th>\n",
       "    </tr>\n",
       "  </thead>\n",
       "  <tbody>\n",
       "    <tr>\n",
       "      <th>182</th>\n",
       "      <td>Chak De India</td>\n",
       "      <td>[{'kind': 'sj#imageRef', 'url': 'http://lh3.go...</td>\n",
       "      <td>Salim - Sulaiman</td>\n",
       "      <td>Bgmqm665zy7loeyayu3vln6ymcm</td>\n",
       "      <td>Sukhvinder Singh,Salim Merchant &amp; Marianne D'Cruz</td>\n",
       "      <td>NaN</td>\n",
       "      <td>[Ad2t7sxcel5regr4hiri4kllhpu]</td>\n",
       "      <td>45d56f8b-d605-4f29-8117-14dbc01cb3ec</td>\n",
       "      <td></td>\n",
       "      <td>1494345693649527</td>\n",
       "      <td>...</td>\n",
       "      <td>T7d6qc7lpet76lrw5pdyqxqnlym</td>\n",
       "      <td>14.0</td>\n",
       "      <td>NaN</td>\n",
       "      <td>NaN</td>\n",
       "      <td>1494345693647000</td>\n",
       "      <td>T7d6qc7lpet76lrw5pdyqxqnlym</td>\n",
       "      <td>Chak De India</td>\n",
       "      <td>1</td>\n",
       "      <td>8</td>\n",
       "      <td>2007.0</td>\n",
       "    </tr>\n",
       "  </tbody>\n",
       "</table>\n",
       "<p>1 rows × 30 columns</p>\n",
       "</div>"
      ],
      "text/plain": [
       "             album                                        albumArtRef  \\\n",
       "182  Chak De India  [{'kind': 'sj#imageRef', 'url': 'http://lh3.go...   \n",
       "\n",
       "          albumArtist                      albumId  \\\n",
       "182  Salim - Sulaiman  Bgmqm665zy7loeyayu3vln6ymcm   \n",
       "\n",
       "                                                artist artistArtRef  \\\n",
       "182  Sukhvinder Singh,Salim Merchant & Marianne D'Cruz          NaN   \n",
       "\n",
       "                          artistId                              clientId  \\\n",
       "182  [Ad2t7sxcel5regr4hiri4kllhpu]  45d56f8b-d605-4f29-8117-14dbc01cb3ec   \n",
       "\n",
       "    composer creationTimestamp   ...                            nid  \\\n",
       "182           1494345693649527   ...    T7d6qc7lpet76lrw5pdyqxqnlym   \n",
       "\n",
       "     playCount primaryVideo rating   recentTimestamp  \\\n",
       "182       14.0          NaN    NaN  1494345693647000   \n",
       "\n",
       "                         storeId          title trackNumber trackType    year  \n",
       "182  T7d6qc7lpet76lrw5pdyqxqnlym  Chak De India           1         8  2007.0  \n",
       "\n",
       "[1 rows x 30 columns]"
      ]
     },
     "execution_count": 13,
     "metadata": {},
     "output_type": "execute_result"
    }
   ],
   "source": [
    "df.sample()"
   ]
  },
  {
   "cell_type": "markdown",
   "metadata": {},
   "source": [
    "We drop the columns that we don't require which are passed as a list in the df.drop() function in pandas."
   ]
  },
  {
   "cell_type": "code",
   "execution_count": 14,
   "metadata": {},
   "outputs": [],
   "source": [
    "df = df.drop([\"albumArtRef\", \"artistArtRef\", \"albumId\", \"artistId\", \"clientId\", \"nid\", \"storeId\"], axis=1)"
   ]
  },
  {
   "cell_type": "markdown",
   "metadata": {},
   "source": [
    "As we can see, the columns which were passed have been dropped."
   ]
  },
  {
   "cell_type": "code",
   "execution_count": 15,
   "metadata": {
    "scrolled": false
   },
   "outputs": [
    {
     "data": {
      "text/html": [
       "<div>\n",
       "<style scoped>\n",
       "    .dataframe tbody tr th:only-of-type {\n",
       "        vertical-align: middle;\n",
       "    }\n",
       "\n",
       "    .dataframe tbody tr th {\n",
       "        vertical-align: top;\n",
       "    }\n",
       "\n",
       "    .dataframe thead th {\n",
       "        text-align: right;\n",
       "    }\n",
       "</style>\n",
       "<table border=\"1\" class=\"dataframe\">\n",
       "  <thead>\n",
       "    <tr style=\"text-align: right;\">\n",
       "      <th></th>\n",
       "      <th>album</th>\n",
       "      <th>albumArtist</th>\n",
       "      <th>artist</th>\n",
       "      <th>composer</th>\n",
       "      <th>creationTimestamp</th>\n",
       "      <th>deleted</th>\n",
       "      <th>discNumber</th>\n",
       "      <th>durationMillis</th>\n",
       "      <th>estimatedSize</th>\n",
       "      <th>explicitType</th>\n",
       "      <th>...</th>\n",
       "      <th>lastModifiedTimestamp</th>\n",
       "      <th>lastRatingChangeTimestamp</th>\n",
       "      <th>playCount</th>\n",
       "      <th>primaryVideo</th>\n",
       "      <th>rating</th>\n",
       "      <th>recentTimestamp</th>\n",
       "      <th>title</th>\n",
       "      <th>trackNumber</th>\n",
       "      <th>trackType</th>\n",
       "      <th>year</th>\n",
       "    </tr>\n",
       "  </thead>\n",
       "  <tbody>\n",
       "    <tr>\n",
       "      <th>254</th>\n",
       "      <td>Death Of A Bachelor</td>\n",
       "      <td>Panic! At The Disco</td>\n",
       "      <td>Panic! At The Disco</td>\n",
       "      <td></td>\n",
       "      <td>1508161698795876</td>\n",
       "      <td>False</td>\n",
       "      <td>1</td>\n",
       "      <td>158000</td>\n",
       "      <td>6348827</td>\n",
       "      <td>2</td>\n",
       "      <td>...</td>\n",
       "      <td>1528361108184461</td>\n",
       "      <td>NaN</td>\n",
       "      <td>30.0</td>\n",
       "      <td>NaN</td>\n",
       "      <td>NaN</td>\n",
       "      <td>1508400261400000</td>\n",
       "      <td>Emperor's New Clothes</td>\n",
       "      <td>4</td>\n",
       "      <td>8</td>\n",
       "      <td>2016.0</td>\n",
       "    </tr>\n",
       "  </tbody>\n",
       "</table>\n",
       "<p>1 rows × 23 columns</p>\n",
       "</div>"
      ],
      "text/plain": [
       "                   album          albumArtist               artist composer  \\\n",
       "254  Death Of A Bachelor  Panic! At The Disco  Panic! At The Disco            \n",
       "\n",
       "    creationTimestamp  deleted  discNumber durationMillis estimatedSize  \\\n",
       "254  1508161698795876    False           1         158000       6348827   \n",
       "\n",
       "    explicitType   ...   lastModifiedTimestamp lastRatingChangeTimestamp  \\\n",
       "254            2   ...        1528361108184461                       NaN   \n",
       "\n",
       "    playCount primaryVideo rating   recentTimestamp                  title  \\\n",
       "254      30.0          NaN    NaN  1508400261400000  Emperor's New Clothes   \n",
       "\n",
       "    trackNumber trackType    year  \n",
       "254           4         8  2016.0  \n",
       "\n",
       "[1 rows x 23 columns]"
      ]
     },
     "execution_count": 15,
     "metadata": {},
     "output_type": "execute_result"
    }
   ],
   "source": [
    "df.sample()"
   ]
  },
  {
   "cell_type": "markdown",
   "metadata": {},
   "source": [
    "Let us see the first 5 rows of out DataFrame."
   ]
  },
  {
   "cell_type": "code",
   "execution_count": 16,
   "metadata": {
    "scrolled": true
   },
   "outputs": [
    {
     "data": {
      "text/html": [
       "<div>\n",
       "<style scoped>\n",
       "    .dataframe tbody tr th:only-of-type {\n",
       "        vertical-align: middle;\n",
       "    }\n",
       "\n",
       "    .dataframe tbody tr th {\n",
       "        vertical-align: top;\n",
       "    }\n",
       "\n",
       "    .dataframe thead th {\n",
       "        text-align: right;\n",
       "    }\n",
       "</style>\n",
       "<table border=\"1\" class=\"dataframe\">\n",
       "  <thead>\n",
       "    <tr style=\"text-align: right;\">\n",
       "      <th></th>\n",
       "      <th>album</th>\n",
       "      <th>albumArtist</th>\n",
       "      <th>artist</th>\n",
       "      <th>composer</th>\n",
       "      <th>creationTimestamp</th>\n",
       "      <th>deleted</th>\n",
       "      <th>discNumber</th>\n",
       "      <th>durationMillis</th>\n",
       "      <th>estimatedSize</th>\n",
       "      <th>explicitType</th>\n",
       "      <th>...</th>\n",
       "      <th>lastModifiedTimestamp</th>\n",
       "      <th>lastRatingChangeTimestamp</th>\n",
       "      <th>playCount</th>\n",
       "      <th>primaryVideo</th>\n",
       "      <th>rating</th>\n",
       "      <th>recentTimestamp</th>\n",
       "      <th>title</th>\n",
       "      <th>trackNumber</th>\n",
       "      <th>trackType</th>\n",
       "      <th>year</th>\n",
       "    </tr>\n",
       "  </thead>\n",
       "  <tbody>\n",
       "    <tr>\n",
       "      <th>0</th>\n",
       "      <td>Best Of Arijit Singh</td>\n",
       "      <td>Arijit Singh</td>\n",
       "      <td>Arijit Singh</td>\n",
       "      <td></td>\n",
       "      <td>1491623824763690</td>\n",
       "      <td>False</td>\n",
       "      <td>1</td>\n",
       "      <td>329000</td>\n",
       "      <td>13197088</td>\n",
       "      <td>2</td>\n",
       "      <td>...</td>\n",
       "      <td>1500897890816586</td>\n",
       "      <td>NaN</td>\n",
       "      <td>8.0</td>\n",
       "      <td>NaN</td>\n",
       "      <td>NaN</td>\n",
       "      <td>1491623824761000</td>\n",
       "      <td>Phir Mohabbat (From \"Murder 2\")</td>\n",
       "      <td>5</td>\n",
       "      <td>8</td>\n",
       "      <td>2016.0</td>\n",
       "    </tr>\n",
       "    <tr>\n",
       "      <th>1</th>\n",
       "      <td>21</td>\n",
       "      <td>Adele</td>\n",
       "      <td>Adele</td>\n",
       "      <td></td>\n",
       "      <td>1491709830971456</td>\n",
       "      <td>False</td>\n",
       "      <td>1</td>\n",
       "      <td>223000</td>\n",
       "      <td>8931820</td>\n",
       "      <td>2</td>\n",
       "      <td>...</td>\n",
       "      <td>1502949714329987</td>\n",
       "      <td>NaN</td>\n",
       "      <td>10.0</td>\n",
       "      <td>NaN</td>\n",
       "      <td>NaN</td>\n",
       "      <td>1491709830969000</td>\n",
       "      <td>Rumour Has It</td>\n",
       "      <td>2</td>\n",
       "      <td>8</td>\n",
       "      <td>2011.0</td>\n",
       "    </tr>\n",
       "    <tr>\n",
       "      <th>2</th>\n",
       "      <td>Hybrid Theory (U.S. Version)</td>\n",
       "      <td>Linkin Park</td>\n",
       "      <td>Linkin Park</td>\n",
       "      <td></td>\n",
       "      <td>1491479207001616</td>\n",
       "      <td>False</td>\n",
       "      <td>1</td>\n",
       "      <td>216000</td>\n",
       "      <td>8679999</td>\n",
       "      <td>2</td>\n",
       "      <td>...</td>\n",
       "      <td>1503150304920429</td>\n",
       "      <td>NaN</td>\n",
       "      <td>11.0</td>\n",
       "      <td>{'kind': 'sj#video', 'id': 'eVTXPUF4Oz4', 'thu...</td>\n",
       "      <td>NaN</td>\n",
       "      <td>1491479206999000</td>\n",
       "      <td>In The End</td>\n",
       "      <td>8</td>\n",
       "      <td>8</td>\n",
       "      <td>2000.0</td>\n",
       "    </tr>\n",
       "    <tr>\n",
       "      <th>3</th>\n",
       "      <td>Imagine</td>\n",
       "      <td>John Lennon</td>\n",
       "      <td>John Lennon</td>\n",
       "      <td>John Lennon</td>\n",
       "      <td>1491710130396608</td>\n",
       "      <td>False</td>\n",
       "      <td>1</td>\n",
       "      <td>197000</td>\n",
       "      <td>7915245</td>\n",
       "      <td>2</td>\n",
       "      <td>...</td>\n",
       "      <td>1503227531068060</td>\n",
       "      <td>NaN</td>\n",
       "      <td>7.0</td>\n",
       "      <td>NaN</td>\n",
       "      <td>NaN</td>\n",
       "      <td>1491710130393000</td>\n",
       "      <td>Gimme Some Truth (2010 - Remaster)</td>\n",
       "      <td>6</td>\n",
       "      <td>8</td>\n",
       "      <td>1971.0</td>\n",
       "    </tr>\n",
       "    <tr>\n",
       "      <th>4</th>\n",
       "      <td>Imagine</td>\n",
       "      <td>John Lennon</td>\n",
       "      <td>John Lennon</td>\n",
       "      <td>John Lennon</td>\n",
       "      <td>1491710130396608</td>\n",
       "      <td>False</td>\n",
       "      <td>1</td>\n",
       "      <td>339000</td>\n",
       "      <td>13570233</td>\n",
       "      <td>2</td>\n",
       "      <td>...</td>\n",
       "      <td>1503422245641827</td>\n",
       "      <td>NaN</td>\n",
       "      <td>6.0</td>\n",
       "      <td>NaN</td>\n",
       "      <td>NaN</td>\n",
       "      <td>1491710130394000</td>\n",
       "      <td>How Do You Sleep? (2010 - Remaster)</td>\n",
       "      <td>8</td>\n",
       "      <td>8</td>\n",
       "      <td>1971.0</td>\n",
       "    </tr>\n",
       "  </tbody>\n",
       "</table>\n",
       "<p>5 rows × 23 columns</p>\n",
       "</div>"
      ],
      "text/plain": [
       "                          album   albumArtist        artist     composer  \\\n",
       "0          Best Of Arijit Singh  Arijit Singh  Arijit Singh                \n",
       "1                            21         Adele         Adele                \n",
       "2  Hybrid Theory (U.S. Version)   Linkin Park   Linkin Park                \n",
       "3                       Imagine   John Lennon   John Lennon  John Lennon   \n",
       "4                       Imagine   John Lennon   John Lennon  John Lennon   \n",
       "\n",
       "  creationTimestamp  deleted  discNumber durationMillis estimatedSize  \\\n",
       "0  1491623824763690    False           1         329000      13197088   \n",
       "1  1491709830971456    False           1         223000       8931820   \n",
       "2  1491479207001616    False           1         216000       8679999   \n",
       "3  1491710130396608    False           1         197000       7915245   \n",
       "4  1491710130396608    False           1         339000      13570233   \n",
       "\n",
       "  explicitType   ...   lastModifiedTimestamp lastRatingChangeTimestamp  \\\n",
       "0            2   ...        1500897890816586                       NaN   \n",
       "1            2   ...        1502949714329987                       NaN   \n",
       "2            2   ...        1503150304920429                       NaN   \n",
       "3            2   ...        1503227531068060                       NaN   \n",
       "4            2   ...        1503422245641827                       NaN   \n",
       "\n",
       "  playCount                                       primaryVideo rating  \\\n",
       "0       8.0                                                NaN    NaN   \n",
       "1      10.0                                                NaN    NaN   \n",
       "2      11.0  {'kind': 'sj#video', 'id': 'eVTXPUF4Oz4', 'thu...    NaN   \n",
       "3       7.0                                                NaN    NaN   \n",
       "4       6.0                                                NaN    NaN   \n",
       "\n",
       "    recentTimestamp                                title trackNumber  \\\n",
       "0  1491623824761000      Phir Mohabbat (From \"Murder 2\")           5   \n",
       "1  1491709830969000                        Rumour Has It           2   \n",
       "2  1491479206999000                           In The End           8   \n",
       "3  1491710130393000   Gimme Some Truth (2010 - Remaster)           6   \n",
       "4  1491710130394000  How Do You Sleep? (2010 - Remaster)           8   \n",
       "\n",
       "  trackType    year  \n",
       "0         8  2016.0  \n",
       "1         8  2011.0  \n",
       "2         8  2000.0  \n",
       "3         8  1971.0  \n",
       "4         8  1971.0  \n",
       "\n",
       "[5 rows x 23 columns]"
      ]
     },
     "execution_count": 16,
     "metadata": {},
     "output_type": "execute_result"
    }
   ],
   "source": [
    "df.head()"
   ]
  },
  {
   "cell_type": "markdown",
   "metadata": {},
   "source": [
    "The following command describes information about the data including count, maximum, minimum, standard deviation and quartiles."
   ]
  },
  {
   "cell_type": "code",
   "execution_count": 17,
   "metadata": {
    "scrolled": true
   },
   "outputs": [
    {
     "data": {
      "text/html": [
       "<div>\n",
       "<style scoped>\n",
       "    .dataframe tbody tr th:only-of-type {\n",
       "        vertical-align: middle;\n",
       "    }\n",
       "\n",
       "    .dataframe tbody tr th {\n",
       "        vertical-align: top;\n",
       "    }\n",
       "\n",
       "    .dataframe thead th {\n",
       "        text-align: right;\n",
       "    }\n",
       "</style>\n",
       "<table border=\"1\" class=\"dataframe\">\n",
       "  <thead>\n",
       "    <tr style=\"text-align: right;\">\n",
       "      <th></th>\n",
       "      <th>discNumber</th>\n",
       "      <th>playCount</th>\n",
       "      <th>trackNumber</th>\n",
       "      <th>year</th>\n",
       "    </tr>\n",
       "  </thead>\n",
       "  <tbody>\n",
       "    <tr>\n",
       "      <th>count</th>\n",
       "      <td>736.000000</td>\n",
       "      <td>732.000000</td>\n",
       "      <td>736.000000</td>\n",
       "      <td>735.000000</td>\n",
       "    </tr>\n",
       "    <tr>\n",
       "      <th>mean</th>\n",
       "      <td>1.013587</td>\n",
       "      <td>24.524590</td>\n",
       "      <td>5.010870</td>\n",
       "      <td>2008.209524</td>\n",
       "    </tr>\n",
       "    <tr>\n",
       "      <th>std</th>\n",
       "      <td>0.115847</td>\n",
       "      <td>15.408197</td>\n",
       "      <td>4.822272</td>\n",
       "      <td>11.308875</td>\n",
       "    </tr>\n",
       "    <tr>\n",
       "      <th>min</th>\n",
       "      <td>1.000000</td>\n",
       "      <td>1.000000</td>\n",
       "      <td>1.000000</td>\n",
       "      <td>1902.000000</td>\n",
       "    </tr>\n",
       "    <tr>\n",
       "      <th>25%</th>\n",
       "      <td>1.000000</td>\n",
       "      <td>13.000000</td>\n",
       "      <td>1.000000</td>\n",
       "      <td>2006.000000</td>\n",
       "    </tr>\n",
       "    <tr>\n",
       "      <th>50%</th>\n",
       "      <td>1.000000</td>\n",
       "      <td>21.000000</td>\n",
       "      <td>3.000000</td>\n",
       "      <td>2012.000000</td>\n",
       "    </tr>\n",
       "    <tr>\n",
       "      <th>75%</th>\n",
       "      <td>1.000000</td>\n",
       "      <td>32.000000</td>\n",
       "      <td>7.000000</td>\n",
       "      <td>2015.000000</td>\n",
       "    </tr>\n",
       "    <tr>\n",
       "      <th>max</th>\n",
       "      <td>2.000000</td>\n",
       "      <td>92.000000</td>\n",
       "      <td>49.000000</td>\n",
       "      <td>2018.000000</td>\n",
       "    </tr>\n",
       "  </tbody>\n",
       "</table>\n",
       "</div>"
      ],
      "text/plain": [
       "       discNumber   playCount  trackNumber         year\n",
       "count  736.000000  732.000000   736.000000   735.000000\n",
       "mean     1.013587   24.524590     5.010870  2008.209524\n",
       "std      0.115847   15.408197     4.822272    11.308875\n",
       "min      1.000000    1.000000     1.000000  1902.000000\n",
       "25%      1.000000   13.000000     1.000000  2006.000000\n",
       "50%      1.000000   21.000000     3.000000  2012.000000\n",
       "75%      1.000000   32.000000     7.000000  2015.000000\n",
       "max      2.000000   92.000000    49.000000  2018.000000"
      ]
     },
     "execution_count": 17,
     "metadata": {},
     "output_type": "execute_result"
    }
   ],
   "source": [
    "df.describe()"
   ]
  },
  {
   "cell_type": "markdown",
   "metadata": {},
   "source": [
    "This command will print the type of data which is held in each of the columns."
   ]
  },
  {
   "cell_type": "code",
   "execution_count": 18,
   "metadata": {},
   "outputs": [
    {
     "data": {
      "text/plain": [
       "album                         object\n",
       "albumArtist                   object\n",
       "artist                        object\n",
       "composer                      object\n",
       "creationTimestamp             object\n",
       "deleted                         bool\n",
       "discNumber                     int64\n",
       "durationMillis                object\n",
       "estimatedSize                 object\n",
       "explicitType                  object\n",
       "genre                         object\n",
       "id                            object\n",
       "kind                          object\n",
       "lastModifiedTimestamp         object\n",
       "lastRatingChangeTimestamp     object\n",
       "playCount                    float64\n",
       "primaryVideo                  object\n",
       "rating                        object\n",
       "recentTimestamp               object\n",
       "title                         object\n",
       "trackNumber                    int64\n",
       "trackType                     object\n",
       "year                         float64\n",
       "dtype: object"
      ]
     },
     "execution_count": 18,
     "metadata": {},
     "output_type": "execute_result"
    }
   ],
   "source": [
    "df.dtypes"
   ]
  },
  {
   "cell_type": "markdown",
   "metadata": {},
   "source": [
    "We want to be able to compare size and duration of various songs. It will be easier to do so if we convert the object type data to numeric type data."
   ]
  },
  {
   "cell_type": "code",
   "execution_count": 19,
   "metadata": {},
   "outputs": [],
   "source": [
    "df[\"durationMillis\"] = pd.to_numeric(df[\"durationMillis\"])\n",
    "df[\"estimatedSize\"] = pd.to_numeric(df[\"estimatedSize\"])"
   ]
  },
  {
   "cell_type": "markdown",
   "metadata": {},
   "source": [
    "Now we count the number of nulls we have in each column."
   ]
  },
  {
   "cell_type": "code",
   "execution_count": 20,
   "metadata": {},
   "outputs": [
    {
     "data": {
      "text/plain": [
       "album                          0\n",
       "albumArtist                    0\n",
       "artist                         0\n",
       "composer                       0\n",
       "creationTimestamp              0\n",
       "deleted                        0\n",
       "discNumber                     0\n",
       "durationMillis                 0\n",
       "estimatedSize                  0\n",
       "explicitType                   0\n",
       "genre                        497\n",
       "id                             0\n",
       "kind                           0\n",
       "lastModifiedTimestamp          0\n",
       "lastRatingChangeTimestamp    699\n",
       "playCount                      4\n",
       "primaryVideo                 524\n",
       "rating                       699\n",
       "recentTimestamp                0\n",
       "title                          0\n",
       "trackNumber                    0\n",
       "trackType                      0\n",
       "year                           1\n",
       "dtype: int64"
      ]
     },
     "execution_count": 20,
     "metadata": {},
     "output_type": "execute_result"
    }
   ],
   "source": [
    "df.isnull().sum()"
   ]
  },
  {
   "cell_type": "code",
   "execution_count": 21,
   "metadata": {},
   "outputs": [],
   "source": [
    "# df = df.dropna()"
   ]
  },
  {
   "cell_type": "code",
   "execution_count": 22,
   "metadata": {},
   "outputs": [],
   "source": [
    "num_columns = [\"discNumber\", \"playCount\", \"trackNumber\", \"year\"]"
   ]
  },
  {
   "cell_type": "markdown",
   "metadata": {},
   "source": [
    "## Obvious correlation as a sanity  check"
   ]
  },
  {
   "cell_type": "markdown",
   "metadata": {},
   "source": [
    "Now we use seaborn joint plots to check the obvious correlations between various fields that we have in our DataFrame object."
   ]
  },
  {
   "cell_type": "markdown",
   "metadata": {},
   "source": [
    "### Duration vs Estimated Size"
   ]
  },
  {
   "cell_type": "code",
   "execution_count": 23,
   "metadata": {},
   "outputs": [
    {
     "data": {
      "text/plain": [
       "<seaborn.axisgrid.JointGrid at 0x7f756f9229b0>"
      ]
     },
     "execution_count": 23,
     "metadata": {},
     "output_type": "execute_result"
    },
    {
     "data": {
      "image/png": "[encoded data removed]",
      "text/plain": [
       "<matplotlib.figure.Figure at 0x7f756f922978>"
      ]
     },
     "metadata": {},
     "output_type": "display_data"
    }
   ],
   "source": [
    "sns.jointplot(data = df, x = \"durationMillis\", y = \"estimatedSize\", kind='kde') "
   ]
  },
  {
   "cell_type": "markdown",
   "metadata": {},
   "source": [
    "### Duration vs Number of Plays"
   ]
  },
  {
   "cell_type": "code",
   "execution_count": 24,
   "metadata": {},
   "outputs": [
    {
     "data": {
      "text/plain": [
       "<seaborn.axisgrid.JointGrid at 0x7f756d7980f0>"
      ]
     },
     "execution_count": 24,
     "metadata": {},
     "output_type": "execute_result"
    },
    {
     "data": {
      "image/png": "[encoded data removed]",
      "text/plain": [
       "<matplotlib.figure.Figure at 0x7f756d798080>"
      ]
     },
     "metadata": {},
     "output_type": "display_data"
    }
   ],
   "source": [
    "sns.jointplot(data = df, x = \"durationMillis\", y = \"playCount\", kind='kde')"
   ]
  },
  {
   "cell_type": "markdown",
   "metadata": {},
   "source": [
    "### Number of Plays vs the Year"
   ]
  },
  {
   "cell_type": "code",
   "execution_count": 25,
   "metadata": {},
   "outputs": [
    {
     "data": {
      "text/plain": [
       "<seaborn.axisgrid.JointGrid at 0x7f756d7af390>"
      ]
     },
     "execution_count": 25,
     "metadata": {},
     "output_type": "execute_result"
    },
    {
     "data": {
      "image/png": "[encoded data removed]",
      "text/plain": [
       "<matplotlib.figure.Figure at 0x7f756d7af9b0>"
      ]
     },
     "metadata": {},
     "output_type": "display_data"
    }
   ],
   "source": [
    "sns.jointplot(data = df, x = \"playCount\", y = \"year\", kind='kde')"
   ]
  },
  {
   "cell_type": "markdown",
   "metadata": {},
   "source": [
    "Now we take the genre and playCount and drop the null items in them."
   ]
  },
  {
   "cell_type": "code",
   "execution_count": 26,
   "metadata": {},
   "outputs": [],
   "source": [
    "genre_playcount = df[[\"genre\",\"playCount\"]].dropna()"
   ]
  },
  {
   "cell_type": "markdown",
   "metadata": {},
   "source": [
    "And we group the data by genre doing a sum of the playCount in each genre and sort in descending order of playCount."
   ]
  },
  {
   "cell_type": "code",
   "execution_count": 27,
   "metadata": {},
   "outputs": [
    {
     "data": {
      "text/html": [
       "<div>\n",
       "<style scoped>\n",
       "    .dataframe tbody tr th:only-of-type {\n",
       "        vertical-align: middle;\n",
       "    }\n",
       "\n",
       "    .dataframe tbody tr th {\n",
       "        vertical-align: top;\n",
       "    }\n",
       "\n",
       "    .dataframe thead th {\n",
       "        text-align: right;\n",
       "    }\n",
       "</style>\n",
       "<table border=\"1\" class=\"dataframe\">\n",
       "  <thead>\n",
       "    <tr style=\"text-align: right;\">\n",
       "      <th></th>\n",
       "      <th>genre</th>\n",
       "      <th>playCount</th>\n",
       "    </tr>\n",
       "  </thead>\n",
       "  <tbody>\n",
       "    <tr>\n",
       "      <th>2</th>\n",
       "      <td>Hindi</td>\n",
       "      <td>2603.0</td>\n",
       "    </tr>\n",
       "    <tr>\n",
       "      <th>7</th>\n",
       "      <td>World</td>\n",
       "      <td>970.0</td>\n",
       "    </tr>\n",
       "    <tr>\n",
       "      <th>6</th>\n",
       "      <td>Western</td>\n",
       "      <td>818.0</td>\n",
       "    </tr>\n",
       "    <tr>\n",
       "      <th>3</th>\n",
       "      <td>Pop</td>\n",
       "      <td>757.0</td>\n",
       "    </tr>\n",
       "    <tr>\n",
       "      <th>1</th>\n",
       "      <td>English</td>\n",
       "      <td>72.0</td>\n",
       "    </tr>\n",
       "    <tr>\n",
       "      <th>4</th>\n",
       "      <td>South America</td>\n",
       "      <td>34.0</td>\n",
       "    </tr>\n",
       "    <tr>\n",
       "      <th>5</th>\n",
       "      <td>South Asia</td>\n",
       "      <td>23.0</td>\n",
       "    </tr>\n",
       "    <tr>\n",
       "      <th>8</th>\n",
       "      <td>World Pop</td>\n",
       "      <td>15.0</td>\n",
       "    </tr>\n",
       "    <tr>\n",
       "      <th>0</th>\n",
       "      <td>Asia</td>\n",
       "      <td>10.0</td>\n",
       "    </tr>\n",
       "  </tbody>\n",
       "</table>\n",
       "</div>"
      ],
      "text/plain": [
       "           genre  playCount\n",
       "2          Hindi     2603.0\n",
       "7          World      970.0\n",
       "6        Western      818.0\n",
       "3            Pop      757.0\n",
       "1        English       72.0\n",
       "4  South America       34.0\n",
       "5     South Asia       23.0\n",
       "8      World Pop       15.0\n",
       "0           Asia       10.0"
      ]
     },
     "execution_count": 27,
     "metadata": {},
     "output_type": "execute_result"
    }
   ],
   "source": [
    "genre_group = genre_playcount.groupby('genre')['playCount'].sum().reset_index().sort_values(\"playCount\", ascending=False)\n",
    "genre_group"
   ]
  },
  {
   "cell_type": "markdown",
   "metadata": {},
   "source": [
    "## Top genres"
   ]
  },
  {
   "cell_type": "markdown",
   "metadata": {},
   "source": [
    "Let's try plotting the data using pandas (which in turn uses matplotlib as base). First we plot a bar chart of the playCount by each genre."
   ]
  },
  {
   "cell_type": "code",
   "execution_count": 28,
   "metadata": {},
   "outputs": [
    {
     "data": {
      "text/plain": [
       "<matplotlib.axes._subplots.AxesSubplot at 0x7f756d525908>"
      ]
     },
     "execution_count": 28,
     "metadata": {},
     "output_type": "execute_result"
    },
    {
     "data": {
      "image/png": "[encoded data removed]",
      "text/plain": [
       "<matplotlib.figure.Figure at 0x7f756d74c550>"
      ]
     },
     "metadata": {},
     "output_type": "display_data"
    }
   ],
   "source": [
    "genre_group.plot(kind=\"bar\", x=genre_group[\"genre\"])"
   ]
  },
  {
   "cell_type": "markdown",
   "metadata": {},
   "source": [
    "Now we move to playCount vs artist, similary as we did for playCount vs genre."
   ]
  },
  {
   "cell_type": "code",
   "execution_count": 29,
   "metadata": {},
   "outputs": [],
   "source": [
    "artist_playcount = df[[\"artist\",\"playCount\"]].dropna()"
   ]
  },
  {
   "cell_type": "code",
   "execution_count": 30,
   "metadata": {},
   "outputs": [
    {
     "data": {
      "text/html": [
       "<div>\n",
       "<style scoped>\n",
       "    .dataframe tbody tr th:only-of-type {\n",
       "        vertical-align: middle;\n",
       "    }\n",
       "\n",
       "    .dataframe tbody tr th {\n",
       "        vertical-align: top;\n",
       "    }\n",
       "\n",
       "    .dataframe thead th {\n",
       "        text-align: right;\n",
       "    }\n",
       "</style>\n",
       "<table border=\"1\" class=\"dataframe\">\n",
       "  <thead>\n",
       "    <tr style=\"text-align: right;\">\n",
       "      <th></th>\n",
       "      <th>artist</th>\n",
       "      <th>playCount</th>\n",
       "    </tr>\n",
       "  </thead>\n",
       "  <tbody>\n",
       "    <tr>\n",
       "      <th>21</th>\n",
       "      <td>Arctic Monkeys</td>\n",
       "      <td>596.0</td>\n",
       "    </tr>\n",
       "    <tr>\n",
       "      <th>80</th>\n",
       "      <td>Ed Sheeran</td>\n",
       "      <td>570.0</td>\n",
       "    </tr>\n",
       "    <tr>\n",
       "      <th>63</th>\n",
       "      <td>Coldplay</td>\n",
       "      <td>558.0</td>\n",
       "    </tr>\n",
       "    <tr>\n",
       "      <th>17</th>\n",
       "      <td>Amit Trivedi</td>\n",
       "      <td>367.0</td>\n",
       "    </tr>\n",
       "    <tr>\n",
       "      <th>120</th>\n",
       "      <td>Imagine Dragons</td>\n",
       "      <td>327.0</td>\n",
       "    </tr>\n",
       "  </tbody>\n",
       "</table>\n",
       "</div>"
      ],
      "text/plain": [
       "              artist  playCount\n",
       "21    Arctic Monkeys      596.0\n",
       "80        Ed Sheeran      570.0\n",
       "63          Coldplay      558.0\n",
       "17      Amit Trivedi      367.0\n",
       "120  Imagine Dragons      327.0"
      ]
     },
     "execution_count": 30,
     "metadata": {},
     "output_type": "execute_result"
    }
   ],
   "source": [
    "artist_group = artist_playcount.groupby('artist')['playCount'].sum().reset_index().sort_values(\"playCount\", ascending=False)\n",
    "artist_group.head()"
   ]
  },
  {
   "cell_type": "markdown",
   "metadata": {},
   "source": [
    "## Top 10 artists"
   ]
  },
  {
   "cell_type": "code",
   "execution_count": 31,
   "metadata": {},
   "outputs": [
    {
     "data": {
      "text/plain": [
       "<matplotlib.axes._subplots.AxesSubplot at 0x7f756d74c710>"
      ]
     },
     "execution_count": 31,
     "metadata": {},
     "output_type": "execute_result"
    },
    {
     "data": {
      "image/png": "[encoded data removed]",
      "text/plain": [
       "<matplotlib.figure.Figure at 0x7f756d4c94e0>"
      ]
     },
     "metadata": {},
     "output_type": "display_data"
    }
   ],
   "source": [
    "artist_group[:10].plot(kind=\"bar\", x=artist_group[:10][\"artist\"])"
   ]
  }
 ],
 "metadata": {
  "kernelspec": {
   "display_name": "Python 3",
   "language": "python",
   "name": "python3"
  },
  "language_info": {
   "codemirror_mode": {
    "name": "ipython",
    "version": 3
   },
   "file_extension": ".py",
   "mimetype": "text/x-python",
   "name": "python",
   "nbconvert_exporter": "python",
   "pygments_lexer": "ipython3",
   "version": "3.6.4"
  }
 },
 "nbformat": 4,
 "nbformat_minor": 2
}
