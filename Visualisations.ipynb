{
 "cells": [
  {
   "cell_type": "code",
   "execution_count": 4,
   "metadata": {},
   "outputs": [
    {
     "data": {
      "text/html": [
       "<script>requirejs.config({paths: { 'plotly': ['https://cdn.plot.ly/plotly-latest.min']},});if(!window.Plotly) {{require(['plotly'],function(plotly) {window.Plotly=plotly;});}}</script>"
      ],
      "text/vnd.plotly.v1+html": [
       "<script>requirejs.config({paths: { 'plotly': ['https://cdn.plot.ly/plotly-latest.min']},});if(!window.Plotly) {{require(['plotly'],function(plotly) {window.Plotly=plotly;});}}</script>"
      ]
     },
     "metadata": {},
     "output_type": "display_data"
    }
   ],
   "source": [
    "#Importing libraries and loading data\n",
    "\n",
    "import plotly as py\n",
    "import plotly.graph_objs as go\n",
    "from plotly.offline import download_plotlyjs, init_notebook_mode, plot, iplot\n",
    "init_notebook_mode(connected=True)\n",
    "\n",
    "import operator\n",
    "import pickle\n",
    "\n",
    "data = pickle.load(open('data_list','rb'))"
   ]
  },
  {
   "cell_type": "code",
   "execution_count": 5,
   "metadata": {},
   "outputs": [],
   "source": [
    "def albumArtist_plot(data):\n",
    "    \n",
    "    albumArtist = {}\n",
    "    \n",
    "    for each_song in data:\n",
    "        \n",
    "        if(albumArtist.get(each_song['albumArtist'])):\n",
    "                albumArtist[each_song['albumArtist']]+=1\n",
    "        else:\n",
    "                albumArtist[each_song[\"albumArtist\"]]=1\n",
    "    \n",
    "    album_artist_sorted = sorted(albumArtist.items(),key = operator.itemgetter(1),reverse=True)\n",
    "    album_artist = [x[0] for x in album_artist_sorted]\n",
    "    artist_count = [x[1] for x in album_artist_sorted]\n",
    "    \n",
    "    trace = go.Bar(x=album_artist[:10],y=artist_count[:10],\n",
    "                  marker=dict(color=['blue','green','red','grey','yellow','crimson','pink','darkred','orange','lightblue']))\n",
    "    data = [trace]\n",
    "    return plot({\"data\":data})"
   ]
  },
  {
   "cell_type": "code",
   "execution_count": 6,
   "metadata": {},
   "outputs": [
    {
     "data": {
      "text/plain": [
       "'file:///media/crocoder/New Volume3/.Trash-1000/files/Google-Play-Music-Data-Analysis.2/temp-plot.html'"
      ]
     },
     "execution_count": 6,
     "metadata": {},
     "output_type": "execute_result"
    }
   ],
   "source": [
    "albumArtist_plot(data)"
   ]
  },
  {
   "cell_type": "code",
   "execution_count": 3,
   "metadata": {},
   "outputs": [],
   "source": [
    "def most_played_artist(data):\n",
    "    \n",
    "    artist_count = {}\n",
    "    \n",
    "    for each_song in data:\n",
    "        try:\n",
    "            count = each_song['playCount']\n",
    "        except:\n",
    "            count = 0\n",
    "        artist = each_song['albumArtist']\n",
    "        \n",
    "        if(artist_count.get(artist)):\n",
    "            artist_count[artist]+=count\n",
    "        else:\n",
    "            artist_count[artist] = count\n",
    "        \n",
    "    album_artist_sorted = sorted(artist_count.items(),key = operator.itemgetter(1),reverse=True)\n",
    "    album_artist = [x[0] for x in album_artist_sorted]\n",
    "    artist_count = [x[1] for x in album_artist_sorted]\n",
    "    \n",
    "    trace = go.Bar(x=album_artist[:10],y=artist_count[:10],\n",
    "                  marker=dict(color=['blue','yellow','blue','yellow','blue','yellow','blue','yellow','blue','yellow']))\n",
    "    data = [trace]\n",
    "    return plot({\"data\":data})\n",
    "        "
   ]
  },
  {
   "cell_type": "code",
   "execution_count": 4,
   "metadata": {},
   "outputs": [],
   "source": [
    "def top_ten_songs(data):\n",
    "    \n",
    "    song_count = {}\n",
    "    \n",
    "    for each_song in data:\n",
    "        \n",
    "        try:\n",
    "            song_name = each_song['title']\n",
    "        except:\n",
    "            song_name = \"NIL\"\n",
    "            \n",
    "        try:\n",
    "            song_count_curr = each_song['playCount']\n",
    "        except:\n",
    "            song_count_curr = 0\n",
    "        \n",
    "        if(song_count.get(song_name)):\n",
    "            song_count[song_name]+=song_count_curr\n",
    "        \n",
    "        else:\n",
    "            song_count[song_name]=song_count_curr\n",
    "    \n",
    "    song_count_sorted =  sorted(song_count.items(),key = operator.itemgetter(1),reverse=True)\n",
    "    song = [x[0] for x in song_count_sorted]\n",
    "    song_cnt = [x[1] for x in song_count_sorted]\n",
    "    \n",
    "    trace = go.Bar(x=song[:10],y=song_cnt[:10],\n",
    "                  marker=dict(color=['seagreen','slateblue','seagreen','slateblue','seagreen','slateblue','seagreen','slateblue','seagreen','slateblue']))\n",
    "    data = [trace]\n",
    "    return plot({\"data\":data})\n",
    "    "
   ]
  },
  {
   "cell_type": "code",
   "execution_count": 5,
   "metadata": {},
   "outputs": [],
   "source": [
    "def song_length(data):\n",
    "    \n",
    "    duration_minute = []\n",
    "    \n",
    "    for each_song in data:\n",
    "        \n",
    "        duration_minute.append(int(each_song['durationMillis'])/(1000*60))\n",
    "        \n",
    "    data = [go.Histogram(x=duration_minute)]\n",
    "    \n",
    "    return plot({\"data\":data})\n",
    "    "
   ]
  },
  {
   "cell_type": "code",
   "execution_count": 6,
   "metadata": {},
   "outputs": [
    {
     "data": {
      "text/plain": [
       "'file:///media/crocoder/New Volume3/Personal/Projects/Google-Play-Music-Data-Analysis/Google-Play-Music-Data-Analysis/temp-plot.html'"
      ]
     },
     "execution_count": 6,
     "metadata": {},
     "output_type": "execute_result"
    }
   ],
   "source": [
    "most_played_artist(data)"
   ]
  },
  {
   "cell_type": "code",
   "execution_count": 7,
   "metadata": {},
   "outputs": [
    {
     "data": {
      "text/plain": [
       "'file:///media/crocoder/New Volume3/Personal/Projects/Google-Play-Music-Data-Analysis/Google-Play-Music-Data-Analysis/temp-plot.html'"
      ]
     },
     "execution_count": 7,
     "metadata": {},
     "output_type": "execute_result"
    }
   ],
   "source": [
    "top_ten_songs(data)"
   ]
  },
  {
   "cell_type": "code",
   "execution_count": 8,
   "metadata": {},
   "outputs": [
    {
     "data": {
      "text/plain": [
       "'file:///media/crocoder/New Volume3/Personal/Projects/Google-Play-Music-Data-Analysis/Google-Play-Music-Data-Analysis/temp-plot.html'"
      ]
     },
     "execution_count": 8,
     "metadata": {},
     "output_type": "execute_result"
    }
   ],
   "source": [
    "song_length(data)"
   ]
  }
 ],
 "metadata": {
  "kernelspec": {
   "display_name": "Python 3",
   "language": "python",
   "name": "python3"
  },
  "language_info": {
   "codemirror_mode": {
    "name": "ipython",
    "version": 3
   },
   "file_extension": ".py",
   "mimetype": "text/x-python",
   "name": "python",
   "nbconvert_exporter": "python",
   "pygments_lexer": "ipython3",
   "version": "3.6.4"
  }
 },
 "nbformat": 4,
 "nbformat_minor": 2
}
