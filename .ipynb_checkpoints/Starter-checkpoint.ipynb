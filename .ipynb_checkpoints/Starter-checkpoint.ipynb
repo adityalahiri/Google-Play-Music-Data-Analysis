{
 "cells": [
  {
   "cell_type": "code",
   "execution_count": 2,
   "metadata": {},
   "outputs": [],
   "source": [
    "# import data\n",
    "import pickle\n",
    "data = pickle.load(open('data_list','rb'))"
   ]
  },
  {
   "cell_type": "code",
   "execution_count": 5,
   "metadata": {},
   "outputs": [],
   "source": [
    "creationTimestamp = []\n",
    "albumArtist = []\n",
    "year = []\n",
    "genre = []\n",
    "playCount = []\n",
    "title = []\n",
    "\n",
    "for each_song in data:\n",
    "    creationTimestamp.append(each_song['creationTimestamp'])\n",
    "    albumArtist.append(each_song['albumArtist'])\n",
    "    try:\n",
    "        year.append(each_song['year'])\n",
    "    except:\n",
    "        year.append(0)\n",
    "    try:\n",
    "        genre.append(each_song['genre'])\n",
    "    except:\n",
    "        genre.append(\"NIL\")\n",
    "    try:\n",
    "        title.append(each_song['title'])\n",
    "    except:\n",
    "        title.append(\"NIL\")\n",
    "    try:\n",
    "        playCount.append(each_song['playCount'])\n",
    "    except:\n",
    "        playCount.append(0)"
   ]
  },
  {
   "cell_type": "code",
   "execution_count": 7,
   "metadata": {},
   "outputs": [],
   "source": [
    "import operator\n",
    "count_song = dict(zip(title,playCount))\n",
    "count_song_sorted = sorted(count_song.items(),key = operator.itemgetter(1),reverse=True)"
   ]
  },
  {
   "cell_type": "code",
   "execution_count": 8,
   "metadata": {
    "collapsed": true
   },
   "outputs": [],
   "source": [
    "top_songs = [x[0] for x in count_song_sorted ]\n",
    "count_top_songs = [x[1] for x in count_song_sorted]"
   ]
  },
  {
   "cell_type": "code",
   "execution_count": 9,
   "metadata": {
    "collapsed": true
   },
   "outputs": [],
   "source": [
    "import plotly as py\n",
    "import plotly.graph_objs as go\n",
    "from plotly.offline import download_plotlyjs, init_notebook_mode, plot, iplot"
   ]
  },
  {
   "cell_type": "code",
   "execution_count": 10,
   "metadata": {},
   "outputs": [
    {
     "data": {
      "text/html": [
       "<script>requirejs.config({paths: { 'plotly': ['https://cdn.plot.ly/plotly-latest.min']},});if(!window.Plotly) {{require(['plotly'],function(plotly) {window.Plotly=plotly;});}}</script>"
      ],
      "text/vnd.plotly.v1+html": [
       "<script>requirejs.config({paths: { 'plotly': ['https://cdn.plot.ly/plotly-latest.min']},});if(!window.Plotly) {{require(['plotly'],function(plotly) {window.Plotly=plotly;});}}</script>"
      ]
     },
     "metadata": {},
     "output_type": "display_data"
    }
   ],
   "source": [
    "init_notebook_mode(connected=True)"
   ]
  },
  {
   "cell_type": "code",
   "execution_count": 11,
   "metadata": {},
   "outputs": [
    {
     "data": {
      "application/vnd.plotly.v1+json": {
       "data": [
        {
         "type": "scatter",
         "uid": "7c40a0e6-868c-11e8-9c3d-2c6e85a78717",
         "x": [
          "Say You Won't Let Go",
          "Atlantis",
          "Riptide",
          "Choo Lo",
          "Georgia",
          "Something Just Like This",
          "We Are Young (feat. Janelle Monáe)",
          "Sleep On The Floor",
          "Coming Home (feat. Skylar Grey)",
          "I Wanna Be Yours"
         ],
         "y": [
          92,
          87,
          85,
          78,
          77,
          77,
          75,
          74,
          73,
          72
         ]
        }
       ],
       "layout": {}
      },
      "text/html": [
       "<div id=\"53f26456-6081-404e-8533-ff34025902f9\" style=\"height: 525px; width: 100%;\" class=\"plotly-graph-div\"></div><script type=\"text/javascript\">require([\"plotly\"], function(Plotly) { window.PLOTLYENV=window.PLOTLYENV || {};window.PLOTLYENV.BASE_URL=\"https://plot.ly\";Plotly.newPlot(\"53f26456-6081-404e-8533-ff34025902f9\", [{\"x\": [\"Say You Won't Let Go\", \"Atlantis\", \"Riptide\", \"Choo Lo\", \"Georgia\", \"Something Just Like This\", \"We Are Young (feat. Janelle Mon\\u00e1e)\", \"Sleep On The Floor\", \"Coming Home (feat. Skylar Grey)\", \"I Wanna Be Yours\"], \"y\": [92, 87, 85, 78, 77, 77, 75, 74, 73, 72], \"type\": \"scatter\", \"uid\": \"7c40a0e7-868c-11e8-9c3d-2c6e85a78717\"}], {}, {\"showLink\": true, \"linkText\": \"Export to plot.ly\"})});</script>"
      ],
      "text/vnd.plotly.v1+html": [
       "<div id=\"53f26456-6081-404e-8533-ff34025902f9\" style=\"height: 525px; width: 100%;\" class=\"plotly-graph-div\"></div><script type=\"text/javascript\">require([\"plotly\"], function(Plotly) { window.PLOTLYENV=window.PLOTLYENV || {};window.PLOTLYENV.BASE_URL=\"https://plot.ly\";Plotly.newPlot(\"53f26456-6081-404e-8533-ff34025902f9\", [{\"x\": [\"Say You Won't Let Go\", \"Atlantis\", \"Riptide\", \"Choo Lo\", \"Georgia\", \"Something Just Like This\", \"We Are Young (feat. Janelle Mon\\u00e1e)\", \"Sleep On The Floor\", \"Coming Home (feat. Skylar Grey)\", \"I Wanna Be Yours\"], \"y\": [92, 87, 85, 78, 77, 77, 75, 74, 73, 72], \"type\": \"scatter\", \"uid\": \"7c40a0e7-868c-11e8-9c3d-2c6e85a78717\"}], {}, {\"showLink\": true, \"linkText\": \"Export to plot.ly\"})});</script>"
      ]
     },
     "metadata": {},
     "output_type": "display_data"
    }
   ],
   "source": [
    "iplot([go.Scatter(x=top_songs[:10], y=count_top_songs[:10])])"
   ]
  },
  {
   "cell_type": "code",
   "execution_count": null,
   "metadata": {
    "collapsed": true
   },
   "outputs": [],
   "source": []
  }
 ],
 "metadata": {
  "kernelspec": {
   "display_name": "Python 3",
   "language": "python",
   "name": "python3"
  },
  "language_info": {
   "codemirror_mode": {
    "name": "ipython",
    "version": 3
   },
   "file_extension": ".py",
   "mimetype": "text/x-python",
   "name": "python",
   "nbconvert_exporter": "python",
   "pygments_lexer": "ipython3",
   "version": "3.6.3"
  }
 },
 "nbformat": 4,
 "nbformat_minor": 2
}
