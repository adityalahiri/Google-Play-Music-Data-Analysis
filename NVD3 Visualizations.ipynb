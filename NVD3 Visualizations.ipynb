{
 "cells": [
  {
   "cell_type": "markdown",
   "metadata": {},
   "source": [
    "# NVD3 Visualizations"
   ]
  },
  {
   "cell_type": "markdown",
   "metadata": {},
   "source": [
    "## Procedural vs Declarative Visualizations\n",
    "\n",
    "**Procedural :**\n",
    "- The actions which are to be taken are defined successively.\n",
    "- Example : matplotlib.pyplot\n",
    "\n",
    "**Declarative :**\n",
    "- The models of the relationship are defined (declared) before the plotting starts.\n",
    "- Example : D3.js\n",
    "\n",
    "NVD3 is a Python wrapper for d3.js library which is used for declarative visualizations."
   ]
  },
  {
   "cell_type": "markdown",
   "metadata": {},
   "source": [
    "## Installing python-nvd3"
   ]
  },
  {
   "cell_type": "code",
   "execution_count": 1,
   "metadata": {},
   "outputs": [
    {
     "name": "stdout",
     "output_type": "stream",
     "text": [
      "Requirement already satisfied: python-nvd3 in /home/crocoder/anaconda3/lib/python3.6/site-packages (0.15.0)\r\n",
      "Requirement already satisfied: python-slugify>=1.2.5 in /home/crocoder/anaconda3/lib/python3.6/site-packages (from python-nvd3) (1.2.5)\r\n",
      "Requirement already satisfied: Jinja2>=2.8 in /home/crocoder/anaconda3/lib/python3.6/site-packages (from python-nvd3) (2.10)\r\n",
      "Requirement already satisfied: Unidecode>=0.04.16 in /home/crocoder/anaconda3/lib/python3.6/site-packages (from python-slugify>=1.2.5->python-nvd3) (1.0.22)\r\n",
      "Requirement already satisfied: MarkupSafe>=0.23 in /home/crocoder/anaconda3/lib/python3.6/site-packages (from Jinja2>=2.8->python-nvd3) (1.0)\r\n"
     ]
    }
   ],
   "source": [
    "!pip install python-nvd3"
   ]
  },
  {
   "cell_type": "code",
   "execution_count": 2,
   "metadata": {
    "scrolled": true
   },
   "outputs": [
    {
     "name": "stdout",
     "output_type": "stream",
     "text": [
      "loaded nvd3 IPython extension\n",
      "run nvd3.ipynb.initialize_javascript() to set up the notebook\n",
      "help(nvd3.ipynb.initialize_javascript) for options\n"
     ]
    },
    {
     "data": {
      "text/html": [
       "<link media=\"all\" href=\"files/nv.d3.css\" type=\"text/css\"\n",
       "                        rel=\"stylesheet\"/>"
      ],
      "text/plain": [
       "<IPython.core.display.HTML object>"
      ]
     },
     "metadata": {},
     "output_type": "display_data"
    },
    {
     "data": {
      "application/javascript": [
       "$.getScript(\"files/nv.d3.js\")"
      ],
      "text/plain": [
       "<IPython.core.display.Javascript object>"
      ]
     },
     "metadata": {},
     "output_type": "display_data"
    },
    {
     "data": {
      "application/javascript": [
       "$.getScript(\"files/d3.v3.js\", function() {\n",
       "                              $.getScript(\"files/nv.d3.js\", function() {})});"
      ],
      "text/plain": [
       "<IPython.core.display.Javascript object>"
      ]
     },
     "metadata": {},
     "output_type": "display_data"
    },
    {
     "data": {
      "text/html": [
       "<script src=\"files/d3.v3.js\"></script>"
      ],
      "text/plain": [
       "<IPython.core.display.HTML object>"
      ]
     },
     "metadata": {},
     "output_type": "display_data"
    },
    {
     "data": {
      "text/html": [
       "<script src=\"files/nv.d3.js\"></script>"
      ],
      "text/plain": [
       "<IPython.core.display.HTML object>"
      ]
     },
     "metadata": {},
     "output_type": "display_data"
    }
   ],
   "source": [
    "import nvd3\n",
    "import pandas as pd\n",
    "import operator\n",
    "# Initializing for the notebook\n",
    "nvd3.ipynb.initialize_javascript()"
   ]
  },
  {
   "cell_type": "markdown",
   "metadata": {},
   "source": [
    "## Getting the Data"
   ]
  },
  {
   "cell_type": "code",
   "execution_count": 3,
   "metadata": {},
   "outputs": [],
   "source": [
    "# import data\n",
    "import pickle\n",
    "data = pickle.load(open('data_list','rb'))"
   ]
  },
  {
   "cell_type": "code",
   "execution_count": 4,
   "metadata": {},
   "outputs": [],
   "source": [
    "df = pd.DataFrame(data)\n",
    "df = df.drop([\"albumArtRef\", \"artistArtRef\", \"albumId\", \"artistId\", \"clientId\", \"nid\", \"storeId\"], axis=1)"
   ]
  },
  {
   "cell_type": "code",
   "execution_count": 5,
   "metadata": {},
   "outputs": [],
   "source": [
    "df[\"durationMillis\"] = pd.to_numeric(df[\"durationMillis\"])\n",
    "df[\"estimatedSize\"] = pd.to_numeric(df[\"estimatedSize\"])"
   ]
  },
  {
   "cell_type": "code",
   "execution_count": 6,
   "metadata": {},
   "outputs": [
    {
     "data": {
      "text/html": [
       "<div>\n",
       "<style scoped>\n",
       "    .dataframe tbody tr th:only-of-type {\n",
       "        vertical-align: middle;\n",
       "    }\n",
       "\n",
       "    .dataframe tbody tr th {\n",
       "        vertical-align: top;\n",
       "    }\n",
       "\n",
       "    .dataframe thead th {\n",
       "        text-align: right;\n",
       "    }\n",
       "</style>\n",
       "<table border=\"1\" class=\"dataframe\">\n",
       "  <thead>\n",
       "    <tr style=\"text-align: right;\">\n",
       "      <th></th>\n",
       "      <th>discNumber</th>\n",
       "      <th>durationMillis</th>\n",
       "      <th>estimatedSize</th>\n",
       "      <th>playCount</th>\n",
       "      <th>trackNumber</th>\n",
       "      <th>year</th>\n",
       "    </tr>\n",
       "  </thead>\n",
       "  <tbody>\n",
       "    <tr>\n",
       "      <th>count</th>\n",
       "      <td>736.000000</td>\n",
       "      <td>736.000000</td>\n",
       "      <td>7.360000e+02</td>\n",
       "      <td>732.000000</td>\n",
       "      <td>736.000000</td>\n",
       "      <td>735.000000</td>\n",
       "    </tr>\n",
       "    <tr>\n",
       "      <th>mean</th>\n",
       "      <td>1.013587</td>\n",
       "      <td>253180.706522</td>\n",
       "      <td>1.014937e+07</td>\n",
       "      <td>24.524590</td>\n",
       "      <td>5.010870</td>\n",
       "      <td>2008.209524</td>\n",
       "    </tr>\n",
       "    <tr>\n",
       "      <th>std</th>\n",
       "      <td>0.115847</td>\n",
       "      <td>73870.938806</td>\n",
       "      <td>2.954185e+06</td>\n",
       "      <td>15.408197</td>\n",
       "      <td>4.822272</td>\n",
       "      <td>11.308875</td>\n",
       "    </tr>\n",
       "    <tr>\n",
       "      <th>min</th>\n",
       "      <td>1.000000</td>\n",
       "      <td>30000.000000</td>\n",
       "      <td>1.202704e+06</td>\n",
       "      <td>1.000000</td>\n",
       "      <td>1.000000</td>\n",
       "      <td>1902.000000</td>\n",
       "    </tr>\n",
       "    <tr>\n",
       "      <th>25%</th>\n",
       "      <td>1.000000</td>\n",
       "      <td>211000.000000</td>\n",
       "      <td>8.459782e+06</td>\n",
       "      <td>13.000000</td>\n",
       "      <td>1.000000</td>\n",
       "      <td>2006.000000</td>\n",
       "    </tr>\n",
       "    <tr>\n",
       "      <th>50%</th>\n",
       "      <td>1.000000</td>\n",
       "      <td>238000.000000</td>\n",
       "      <td>9.532630e+06</td>\n",
       "      <td>21.000000</td>\n",
       "      <td>3.000000</td>\n",
       "      <td>2012.000000</td>\n",
       "    </tr>\n",
       "    <tr>\n",
       "      <th>75%</th>\n",
       "      <td>1.000000</td>\n",
       "      <td>284250.000000</td>\n",
       "      <td>1.140143e+07</td>\n",
       "      <td>32.000000</td>\n",
       "      <td>7.000000</td>\n",
       "      <td>2015.000000</td>\n",
       "    </tr>\n",
       "    <tr>\n",
       "      <th>max</th>\n",
       "      <td>2.000000</td>\n",
       "      <td>738000.000000</td>\n",
       "      <td>2.952571e+07</td>\n",
       "      <td>92.000000</td>\n",
       "      <td>49.000000</td>\n",
       "      <td>2018.000000</td>\n",
       "    </tr>\n",
       "  </tbody>\n",
       "</table>\n",
       "</div>"
      ],
      "text/plain": [
       "       discNumber  durationMillis  estimatedSize   playCount  trackNumber  \\\n",
       "count  736.000000      736.000000   7.360000e+02  732.000000   736.000000   \n",
       "mean     1.013587   253180.706522   1.014937e+07   24.524590     5.010870   \n",
       "std      0.115847    73870.938806   2.954185e+06   15.408197     4.822272   \n",
       "min      1.000000    30000.000000   1.202704e+06    1.000000     1.000000   \n",
       "25%      1.000000   211000.000000   8.459782e+06   13.000000     1.000000   \n",
       "50%      1.000000   238000.000000   9.532630e+06   21.000000     3.000000   \n",
       "75%      1.000000   284250.000000   1.140143e+07   32.000000     7.000000   \n",
       "max      2.000000   738000.000000   2.952571e+07   92.000000    49.000000   \n",
       "\n",
       "              year  \n",
       "count   735.000000  \n",
       "mean   2008.209524  \n",
       "std      11.308875  \n",
       "min    1902.000000  \n",
       "25%    2006.000000  \n",
       "50%    2012.000000  \n",
       "75%    2015.000000  \n",
       "max    2018.000000  "
      ]
     },
     "execution_count": 6,
     "metadata": {},
     "output_type": "execute_result"
    }
   ],
   "source": [
    "df.describe()"
   ]
  },
  {
   "cell_type": "code",
   "execution_count": 7,
   "metadata": {},
   "outputs": [],
   "source": [
    "def get_artist_count(data):\n",
    "    albumArtist = {}\n",
    "    for each_song in data:\n",
    "        if(albumArtist.get(each_song['albumArtist'])):\n",
    "                albumArtist[each_song['albumArtist']]+=1\n",
    "        else:\n",
    "                albumArtist[each_song[\"albumArtist\"]]=1\n",
    "    \n",
    "    album_artist_sorted = sorted(albumArtist.items(),key = operator.itemgetter(1),reverse=True)\n",
    "    album_artist = [x[0] for x in album_artist_sorted]\n",
    "    artist_count = [x[1] for x in album_artist_sorted]\n",
    "    \n",
    "    return album_artist,artist_count"
   ]
  },
  {
   "cell_type": "code",
   "execution_count": 42,
   "metadata": {},
   "outputs": [],
   "source": [
    "def get_played_count(data):\n",
    "    artist_count = {}\n",
    "    for each_song in data:\n",
    "        try:\n",
    "            count = each_song['playCount']\n",
    "        except:\n",
    "            count = 0\n",
    "        artist = each_song['albumArtist']\n",
    "        \n",
    "        if(artist_count.get(artist)):\n",
    "            artist_count[artist]+=count\n",
    "        else:\n",
    "            artist_count[artist] = count\n",
    "            \n",
    "    album_artist_sorted = sorted(artist_count.items(),key = operator.itemgetter(1),reverse=True)\n",
    "    album_artist = [x[0] for x in album_artist_sorted]\n",
    "    artist_count = [x[1] for x in album_artist_sorted]\n",
    "    \n",
    "    return album_artist,artist_count"
   ]
  },
  {
   "cell_type": "code",
   "execution_count": 52,
   "metadata": {},
   "outputs": [],
   "source": [
    "def top_ten_songs(data):\n",
    "    song_count = {}\n",
    "    \n",
    "    for each_song in data:\n",
    "\n",
    "        try:\n",
    "            song_name = each_song['title']\n",
    "        except:\n",
    "            song_name = \"NIL\"\n",
    "            \n",
    "        try:\n",
    "            song_count_curr = each_song['playCount']\n",
    "        except:\n",
    "            song_count_curr = 0\n",
    "        \n",
    "        if(song_count.get(song_name)):\n",
    "            song_count[song_name]+=song_count_curr\n",
    "        \n",
    "        else:\n",
    "            song_count[song_name]=song_count_curr\n",
    "    \n",
    "    song_count_sorted =  sorted(song_count.items(),key = operator.itemgetter(1),reverse=True)\n",
    "    song = [x[0] for x in song_count_sorted]\n",
    "    song_cnt = [x[1] for x in song_count_sorted]\n",
    "    \n",
    "    return song,song_cnt"
   ]
  },
  {
   "cell_type": "code",
   "execution_count": 64,
   "metadata": {},
   "outputs": [],
   "source": [
    "def song_length(data):  \n",
    "    duration_minute = []  \n",
    "    for each_song in data:     \n",
    "        duration_minute.append(int(each_song['durationMillis'])/(1000*60))     \n",
    "    return duration_minute"
   ]
  },
  {
   "cell_type": "markdown",
   "metadata": {},
   "source": [
    "## Bar Charts"
   ]
  },
  {
   "cell_type": "code",
   "execution_count": 65,
   "metadata": {},
   "outputs": [],
   "source": [
    "def makebarchart(data,filename):\n",
    "    xdata,ydata=data\n",
    "    barchart = nvd3.discreteBarChart(name = 'discreteBarChart',height = 800, width = 1200)\n",
    "    barchart.add_serie(y=ydata[:10],x=xdata[:10])\n",
    "    barchart.buildhtml()\n",
    "    chart_html = barchart.htmlcontent\n",
    "    with open(filename +'.html','w') as f:\n",
    "        f.write(chart_html)\n"
   ]
  },
  {
   "cell_type": "code",
   "execution_count": 66,
   "metadata": {},
   "outputs": [],
   "source": [
    "makebarchart(get_artist_count(data),'albumartist')"
   ]
  },
  {
   "cell_type": "code",
   "execution_count": 67,
   "metadata": {},
   "outputs": [],
   "source": [
    "makebarchart(get_played_count(data),'artistplayed')"
   ]
  },
  {
   "cell_type": "code",
   "execution_count": 68,
   "metadata": {},
   "outputs": [],
   "source": [
    "makebarchart(top_ten_songs(data),'top10songs')\n"
   ]
  },
  {
   "cell_type": "code",
   "execution_count": 71,
   "metadata": {},
   "outputs": [],
   "source": [
    "makebarchart((range(len(song_length(data))),song_length(data)),'songlength')"
   ]
  }
 ],
 "metadata": {
  "kernelspec": {
   "display_name": "Python 3",
   "language": "python",
   "name": "python3"
  },
  "language_info": {
   "codemirror_mode": {
    "name": "ipython",
    "version": 3
   },
   "file_extension": ".py",
   "mimetype": "text/x-python",
   "name": "python",
   "nbconvert_exporter": "python",
   "pygments_lexer": "ipython3",
   "version": "3.6.4"
  }
 },
 "nbformat": 4,
 "nbformat_minor": 2
}
